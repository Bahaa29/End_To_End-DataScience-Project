{
 "cells": [
  {
   "cell_type": "code",
   "execution_count": 2,
   "metadata": {},
   "outputs": [],
   "source": [
    "import pandas as pd \n",
    "import numpy as np \n",
    "import logging\n",
    "import pickle\n"
   ]
  },
  {
   "cell_type": "code",
   "execution_count": 3,
   "metadata": {},
   "outputs": [],
   "source": [
    "#first define a dectionary for restructure the two varaibles \n",
    "REPLACE= {\n",
    "    'YearsCodePro': {'Less than 1 year': 0, 'More than 50 years': 51}, \n",
    "    'YearsCode':    {'Less than 1 year': 0, 'More than 50 years': 51}}"
   ]
  },
  {
   "cell_type": "code",
   "execution_count": 4,
   "metadata": {},
   "outputs": [],
   "source": [
    "data = pd.read_csv(\"../data/orginal/survey_results_public.csv\")\n",
    "copy_data = data.copy()"
   ]
  },
  {
   "cell_type": "code",
   "execution_count": 5,
   "metadata": {},
   "outputs": [],
   "source": [
    "for col , replacement in REPLACE.items():\n",
    "    copy_data[col]= copy_data[col].replace(replacement).astype(np.float32)"
   ]
  },
  {
   "cell_type": "code",
   "execution_count": 6,
   "metadata": {},
   "outputs": [
    {
     "name": "stdout",
     "output_type": "stream",
     "text": [
      "old data\n",
      "[nan, '10', '4', '5', '6', '2', '30', '9', '18', '12', '21', '1', '16', 'Less than 1 year', '15', '3', '35', '7', '8', '17', '14', '26', '25', '20', '50', '34', '11', '24', '22', '13', '31', '23', '39', '41', '27', '28', '19', '33', 'More than 50 years', '37', '29', '32', '43', '40', '38', '45', '42', '46', '36', '44', '47', '48', '49']\n",
      "new data\n",
      "[nan, 10.0, 4.0, 5.0, 6.0, 2.0, 30.0, 9.0, 18.0, 12.0, 21.0, 1.0, 16.0, 0.0, 15.0, 3.0, 35.0, 7.0, 8.0, 17.0, 14.0, 26.0, 25.0, 20.0, 50.0, 34.0, 11.0, 24.0, 22.0, 13.0, 31.0, 23.0, 39.0, 41.0, 27.0, 28.0, 19.0, 33.0, 51.0, 37.0, 29.0, 32.0, 43.0, 40.0, 38.0, 45.0, 42.0, 46.0, 36.0, 44.0, 47.0, 48.0, 49.0]\n"
     ]
    }
   ],
   "source": [
    "print(\"old data\")\n",
    "print(data[\"YearsCodePro\"].unique().tolist())\n",
    "print (\"new data\")\n",
    "print(copy_data[\"YearsCodePro\"].unique().tolist())"
   ]
  },
  {
   "cell_type": "markdown",
   "metadata": {},
   "source": [
    "### Next we go to next step that i want to split the data in cols such \"devType\" and \"LanguageHaveWorkedWith\" and return list of values for each row in cols "
   ]
  },
  {
   "cell_type": "code",
   "execution_count": 7,
   "metadata": {},
   "outputs": [],
   "source": [
    "def split_answers(data_series, delimiter=\";\"):\n",
    "    \n",
    "    def is_splittable(pd_series, delimiter): \n",
    "        return pd_series.str.contains(delimiter)\n",
    "    \n",
    "    def split_answer(pd_series, delimiter): \n",
    "        return pd_series.str.split(delimiter)\n",
    "\n",
    "    splittable_values = is_splittable(data_series, delimiter)\n",
    "    if not splittable_values.any():\n",
    "        return data_series\n",
    "    \n",
    "    # Else, split each value to a list \n",
    "    modified_series = split_answer(data_series, delimiter)    \n",
    "    \n",
    "    # Replace NAs with empty lists \n",
    "    mask_null = modified_series.isnull()\n",
    "    modified_series.loc[mask_null] = modified_series.loc[mask_null].apply(lambda x: [])\n",
    "    \n",
    "    return modified_series"
   ]
  },
  {
   "cell_type": "code",
   "execution_count": 8,
   "metadata": {},
   "outputs": [],
   "source": [
    "object_cols = copy_data.select_dtypes(include='object').columns.tolist()\n",
    "for col in object_cols:\n",
    "    copy_data[col] = split_answers(copy_data[col])"
   ]
  },
  {
   "cell_type": "code",
   "execution_count": 12,
   "metadata": {},
   "outputs": [
    {
     "data": {
      "text/plain": [
       "ResponseId                                                                   3449\n",
       "MainBranch                                         I am a developer by profession\n",
       "Employment                      Independent contractor, freelancer, or self-em...\n",
       "Country                         United Kingdom of Great Britain and Northern I...\n",
       "US_State                                                                      NaN\n",
       "UK_Country                                                                England\n",
       "EdLevel                              Bachelor’s degree (B.A., B.S., B.Eng., etc.)\n",
       "Age1stCode                                                          11 - 17 years\n",
       "LearnCode                       [Other online resources (ex: videos, blogs, et...\n",
       "YearsCode                                                                      21\n",
       "YearsCodePro                                                                   12\n",
       "DevType                                                   [Developer, full-stack]\n",
       "OrgSize                                                        10 to 19 employees\n",
       "Currency                                                      GBP\\tPound sterling\n",
       "CompTotal                                                                     NaN\n",
       "CompFreq                                                                      NaN\n",
       "LanguageHaveWorkedWith          [C#, Groovy, Java, JavaScript, Kotlin, Node.js...\n",
       "LanguageWantToWorkWith                                      [Node.js, TypeScript]\n",
       "DatabaseHaveWorkedWith          [DynamoDB, Elasticsearch, Firebase, IBM DB2, M...\n",
       "DatabaseWantToWorkWith          [Elasticsearch, Firebase, MongoDB, MySQL, SQLite]\n",
       "PlatformHaveWorkedWith                            [Google Cloud Platform, Heroku]\n",
       "PlatformWantToWorkWith                                    [Google Cloud Platform]\n",
       "WebframeHaveWorkedWith                        [Express, jQuery, React.js, Spring]\n",
       "WebframeWantToWorkWith                                [Express, React.js, Vue.js]\n",
       "MiscTechHaveWorkedWith                                             [React Native]\n",
       "MiscTechWantToWorkWith                        [Flutter, React Native, TensorFlow]\n",
       "ToolsTechHaveWorkedWith                                 [Docker, Flow, Git, Yarn]\n",
       "ToolsTechWantToWorkWith                             [Deno, Docker, Git, Unity 3D]\n",
       "NEWCollabToolsHaveWorkedWith    [Atom, Eclipse, IntelliJ, Notepad++, Sublime T...\n",
       "NEWCollabToolsWantToWorkWith                   [Sublime Text, Visual Studio Code]\n",
       "OpSys                                                                       MacOS\n",
       "NEWStuck                        [Visit Stack Overflow, Go for a walk or other ...\n",
       "NEWSOSites                                       [Stack Overflow, Stack Exchange]\n",
       "SOVisitFreq                                                 Daily or almost daily\n",
       "SOAccount                                                                     Yes\n",
       "SOPartFreq                                    Less than once per month or monthly\n",
       "SOComm                                                              Yes, somewhat\n",
       "NEWOtherComms                                                                 Yes\n",
       "Age                                                               35-44 years old\n",
       "Gender                                                                      [Man]\n",
       "Trans                                                                          No\n",
       "Sexuality                                               [Straight / Heterosexual]\n",
       "Ethnicity                                                        [Middle Eastern]\n",
       "Accessibility                                                 [None of the above]\n",
       "MentalHealth                                                  [None of the above]\n",
       "SurveyLength                                                             Too long\n",
       "SurveyEase                                                                   Easy\n",
       "ConvertedCompYearly                                                           NaN\n",
       "Name: 3448, dtype: object"
      ]
     },
     "execution_count": 12,
     "metadata": {},
     "output_type": "execute_result"
    }
   ],
   "source": [
    "copy_data.sample(1).iloc[0]"
   ]
  },
  {
   "cell_type": "code",
   "execution_count": 16,
   "metadata": {},
   "outputs": [
    {
     "name": "stdout",
     "output_type": "stream",
     "text": [
      "<class 'pandas.core.frame.DataFrame'>\n",
      "RangeIndex: 83439 entries, 0 to 83438\n",
      "Data columns (total 48 columns):\n",
      " #   Column                        Non-Null Count  Dtype  \n",
      "---  ------                        --------------  -----  \n",
      " 0   ResponseId                    83439 non-null  int64  \n",
      " 1   MainBranch                    83439 non-null  object \n",
      " 2   Employment                    83323 non-null  object \n",
      " 3   Country                       83439 non-null  object \n",
      " 4   US_State                      14920 non-null  object \n",
      " 5   UK_Country                    4418 non-null   object \n",
      " 6   EdLevel                       83126 non-null  object \n",
      " 7   Age1stCode                    83243 non-null  object \n",
      " 8   LearnCode                     83439 non-null  object \n",
      " 9   YearsCode                     81641 non-null  float32\n",
      " 10  YearsCodePro                  61216 non-null  float32\n",
      " 11  DevType                       83439 non-null  object \n",
      " 12  OrgSize                       60726 non-null  object \n",
      " 13  Currency                      61080 non-null  object \n",
      " 14  CompTotal                     47183 non-null  float64\n",
      " 15  CompFreq                      52150 non-null  object \n",
      " 16  LanguageHaveWorkedWith        83439 non-null  object \n",
      " 17  LanguageWantToWorkWith        83439 non-null  object \n",
      " 18  DatabaseHaveWorkedWith        83439 non-null  object \n",
      " 19  DatabaseWantToWorkWith        83439 non-null  object \n",
      " 20  PlatformHaveWorkedWith        83439 non-null  object \n",
      " 21  PlatformWantToWorkWith        83439 non-null  object \n",
      " 22  WebframeHaveWorkedWith        83439 non-null  object \n",
      " 23  WebframeWantToWorkWith        83439 non-null  object \n",
      " 24  MiscTechHaveWorkedWith        83439 non-null  object \n",
      " 25  MiscTechWantToWorkWith        83439 non-null  object \n",
      " 26  ToolsTechHaveWorkedWith       83439 non-null  object \n",
      " 27  ToolsTechWantToWorkWith       83439 non-null  object \n",
      " 28  NEWCollabToolsHaveWorkedWith  83439 non-null  object \n",
      " 29  NEWCollabToolsWantToWorkWith  83439 non-null  object \n",
      " 30  OpSys                         83294 non-null  object \n",
      " 31  NEWStuck                      83439 non-null  object \n",
      " 32  NEWSOSites                    83439 non-null  object \n",
      " 33  SOVisitFreq                   82413 non-null  object \n",
      " 34  SOAccount                     82525 non-null  object \n",
      " 35  SOPartFreq                    67553 non-null  object \n",
      " 36  SOComm                        82319 non-null  object \n",
      " 37  NEWOtherComms                 82828 non-null  object \n",
      " 38  Age                           82407 non-null  object \n",
      " 39  Gender                        83439 non-null  object \n",
      " 40  Trans                         80678 non-null  object \n",
      " 41  Sexuality                     83439 non-null  object \n",
      " 42  Ethnicity                     83439 non-null  object \n",
      " 43  Accessibility                 83439 non-null  object \n",
      " 44  MentalHealth                  83439 non-null  object \n",
      " 45  SurveyLength                  81711 non-null  object \n",
      " 46  SurveyEase                    81948 non-null  object \n",
      " 47  ConvertedCompYearly           46844 non-null  float64\n",
      "dtypes: float32(2), float64(2), int64(1), object(43)\n",
      "memory usage: 29.9+ MB\n"
     ]
    }
   ],
   "source": [
    "copy_data.info()"
   ]
  },
  {
   "cell_type": "markdown",
   "metadata": {},
   "source": [
    "# data export "
   ]
  },
  {
   "cell_type": "code",
   "execution_count": 20,
   "metadata": {},
   "outputs": [],
   "source": [
    "copy_data.to_pickle(\"../data/processed/1_preprocessed_df.pkl\")"
   ]
  },
  {
   "cell_type": "code",
   "execution_count": null,
   "metadata": {},
   "outputs": [],
   "source": []
  }
 ],
 "metadata": {
  "kernelspec": {
   "display_name": "Python 3",
   "language": "python",
   "name": "python3"
  },
  "language_info": {
   "codemirror_mode": {
    "name": "ipython",
    "version": 3
   },
   "file_extension": ".py",
   "mimetype": "text/x-python",
   "name": "python",
   "nbconvert_exporter": "python",
   "pygments_lexer": "ipython3",
   "version": "3.8.5"
  }
 },
 "nbformat": 4,
 "nbformat_minor": 4
}
